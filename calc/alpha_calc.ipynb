{
 "cells": [
  {
   "cell_type": "markdown",
   "metadata": {},
   "source": [
    "## Calcul de alpha"
   ]
  },
  {
   "cell_type": "code",
   "execution_count": 16,
   "metadata": {},
   "outputs": [],
   "source": [
    "import matplotlib.pyplot as plt\n",
    "import numpy as np\n",
    "from math import *"
   ]
  },
  {
   "cell_type": "code",
   "execution_count": 17,
   "metadata": {},
   "outputs": [],
   "source": [
    "f = 50\n",
    "T = 1/(50*2*128)"
   ]
  },
  {
   "cell_type": "code",
   "execution_count": 18,
   "metadata": {},
   "outputs": [],
   "source": [
    "def p(alpha):\n",
    "    return (np.cos(2*pi*f*alpha*T) - 1)/(np.cos(2*pi*f*128*T) - 1)"
   ]
  },
  {
   "cell_type": "code",
   "execution_count": 19,
   "metadata": {},
   "outputs": [],
   "source": [
    "x, y = [], []\n",
    "for i in range(1,129):\n",
    "    x.append(i)\n",
    "    y.append(p(i)*100)\n",
    "y.reverse()"
   ]
  },
  {
   "cell_type": "code",
   "execution_count": 20,
   "metadata": {},
   "outputs": [
    {
     "data": {
      "text/html": [
       "<div>\n",
       "<style scoped>\n",
       "    .dataframe tbody tr th:only-of-type {\n",
       "        vertical-align: middle;\n",
       "    }\n",
       "\n",
       "    .dataframe tbody tr th {\n",
       "        vertical-align: top;\n",
       "    }\n",
       "\n",
       "    .dataframe thead th {\n",
       "        text-align: right;\n",
       "    }\n",
       "</style>\n",
       "<table border=\"1\" class=\"dataframe\">\n",
       "  <thead>\n",
       "    <tr style=\"text-align: right;\">\n",
       "      <th></th>\n",
       "      <th>%</th>\n",
       "      <th>alpha</th>\n",
       "    </tr>\n",
       "  </thead>\n",
       "  <tbody>\n",
       "    <tr>\n",
       "      <th>0</th>\n",
       "      <td>100.000000</td>\n",
       "      <td>1</td>\n",
       "    </tr>\n",
       "    <tr>\n",
       "      <th>1</th>\n",
       "      <td>99.984941</td>\n",
       "      <td>2</td>\n",
       "    </tr>\n",
       "    <tr>\n",
       "      <th>2</th>\n",
       "      <td>99.939773</td>\n",
       "      <td>3</td>\n",
       "    </tr>\n",
       "    <tr>\n",
       "      <th>3</th>\n",
       "      <td>99.864523</td>\n",
       "      <td>4</td>\n",
       "    </tr>\n",
       "    <tr>\n",
       "      <th>4</th>\n",
       "      <td>99.759236</td>\n",
       "      <td>5</td>\n",
       "    </tr>\n",
       "    <tr>\n",
       "      <th>...</th>\n",
       "      <td>...</td>\n",
       "      <td>...</td>\n",
       "    </tr>\n",
       "    <tr>\n",
       "      <th>123</th>\n",
       "      <td>0.376023</td>\n",
       "      <td>124</td>\n",
       "    </tr>\n",
       "    <tr>\n",
       "      <th>124</th>\n",
       "      <td>0.240764</td>\n",
       "      <td>125</td>\n",
       "    </tr>\n",
       "    <tr>\n",
       "      <th>125</th>\n",
       "      <td>0.135477</td>\n",
       "      <td>126</td>\n",
       "    </tr>\n",
       "    <tr>\n",
       "      <th>126</th>\n",
       "      <td>0.060227</td>\n",
       "      <td>127</td>\n",
       "    </tr>\n",
       "    <tr>\n",
       "      <th>127</th>\n",
       "      <td>0.015059</td>\n",
       "      <td>128</td>\n",
       "    </tr>\n",
       "  </tbody>\n",
       "</table>\n",
       "<p>128 rows × 2 columns</p>\n",
       "</div>"
      ],
      "text/plain": [
       "              %  alpha\n",
       "0    100.000000      1\n",
       "1     99.984941      2\n",
       "2     99.939773      3\n",
       "3     99.864523      4\n",
       "4     99.759236      5\n",
       "..          ...    ...\n",
       "123    0.376023    124\n",
       "124    0.240764    125\n",
       "125    0.135477    126\n",
       "126    0.060227    127\n",
       "127    0.015059    128\n",
       "\n",
       "[128 rows x 2 columns]"
      ]
     },
     "execution_count": 20,
     "metadata": {},
     "output_type": "execute_result"
    }
   ],
   "source": [
    "import pandas as pd\n",
    "d = {'%': y, 'alpha': x }\n",
    "df = pd.DataFrame(data=d)\n",
    "df"
   ]
  },
  {
   "cell_type": "code",
   "execution_count": 21,
   "metadata": {},
   "outputs": [
    {
     "data": {
      "text/plain": [
       "[<matplotlib.lines.Line2D at 0x7f5cc6acbc40>]"
      ]
     },
     "execution_count": 21,
     "metadata": {},
     "output_type": "execute_result"
    },
    {
     "data": {
      "image/png": "[encoded data removed]",
      "text/plain": [
       "<Figure size 432x288 with 1 Axes>"
      ]
     },
     "metadata": {
      "needs_background": "light"
     },
     "output_type": "display_data"
    }
   ],
   "source": [
    "import matplotlib.pyplot as plt\n",
    "plt.plot(x, y)"
   ]
  },
  {
   "cell_type": "code",
   "execution_count": 22,
   "metadata": {},
   "outputs": [
    {
     "data": {
      "text/plain": [
       "'[1.0, 0.9998494093481021, 0.9993977281025862, 0.9986452283393451, 0.9975923633360985, 0.996239767299355, 0.9945882549823906, 0.9926388211944706, 0.9903926402016152, 0.9878510650192642, 0.985015626597272, 0.98188803289772, 0.9784701678661044, 0.9747640902965183, 0.9707720325915103, 0.9664963994173693, 0.9619397662556435, 0.9571048778517653, 0.9519946465617217, 0.9466121505977577, 0.9409606321741777, 0.9350434955543556, 0.9288643050001358, 0.9224267826248536, 0.9157348061512727, 0.9087924065757921, 0.9016037657403224, 0.8941732138133031, 0.8865052266813684, 0.8786044232532423, 0.8704755626774796, 0.8621235414757333, 0.8535533905932737, 0.8447702723685336, 0.8357794774235091, 0.8265864214768883, 0.8171966420818229, 0.8076157952903134, 0.7978496522462166, 0.7879040957089228, 0.7777851165098011, 0.7674988099435487, 0.7570513720966108, 0.746449096114892, 0.7356983684129988, 0.7248056648273034, 0.7137775467151412, 0.702620657002495, 0.691341716182545, 0.6799475182674941, 0.6684449266961101, 0.6568408701994457, 0.6451423386272314, 0.6333563787374492, 0.6214900899516319, 0.609550620078435, 0.5975451610080641, 0.5854809443801506, 0.573365237227681, 0.5612053375996082, 0.5490085701647803, 0.5367822817998338, 0.524533837163709, 0.5122706142614561, 0.49999999999999994, 0.48772938573854385, 0.47546616283629106, 0.4632177182001663, 0.4509914298352197, 0.43879466240039183, 0.42663476277231915, 0.4145190556198494, 0.40245483899193596, 0.39044937992156514, 0.3785099100483681, 0.3666436212625508, 0.3548576613727688, 0.34315912980055413, 0.33155507330389, 0.320052481732506, 0.3086582838174551, 0.29737934299750507, 0.286222453284859, 0.2751943351726967, 0.2643016315870012, 0.2535509038851079, 0.24294862790338917, 0.23250119005645142, 0.22221488349019894, 0.2120959042910774, 0.20215034775378332, 0.1923842047096866, 0.18280335791817726, 0.17341357852311162, 0.16422052257649086, 0.15522972763146653, 0.1464466094067262, 0.13787645852426655, 0.12952443732252045, 0.12139557674675772, 0.11349477331863156, 0.10582678618669689, 0.09839623425967753, 0.09120759342420814, 0.08426519384872738, 0.0775732173751465, 0.071135694999864, 0.06495650444564427, 0.059039367825822475, 0.05338784940224234, 0.04800535343827833, 0.04289512214823466, 0.03806023374435663, 0.03350360058263058, 0.0292279674084896, 0.025235909703481663, 0.021529832133895588, 0.01811196710228008, 0.014984373402728013, 0.012148934980735715, 0.009607359798384785, 0.007361178805529389, 0.005411745017609493, 0.0037602327006450165, 0.0024076366639015356, 0.0013547716606548965, 0.0006022718974137975, 0.00015059065189787502]'"
      ]
     },
     "execution_count": 22,
     "metadata": {},
     "output_type": "execute_result"
    }
   ],
   "source": [
    "import json\n",
    "json.dumps(list(np.array(y)/100))"
   ]
  }
 ],
 "metadata": {
  "kernelspec": {
   "display_name": "Python 3 (ipykernel)",
   "language": "python",
   "name": "python3"
  },
  "language_info": {
   "codemirror_mode": {
    "name": "ipython",
    "version": 3
   },
   "file_extension": ".py",
   "mimetype": "text/x-python",
   "name": "python",
   "nbconvert_exporter": "python",
   "pygments_lexer": "ipython3",
   "version": "3.9.2"
  },
  "vscode": {
   "interpreter": {
    "hash": "916dbcbb3f70747c44a77c7bcd40155683ae19c65e1c03b4aa3499c5328201f1"
   }
  }
 },
 "nbformat": 4,
 "nbformat_minor": 4
}
